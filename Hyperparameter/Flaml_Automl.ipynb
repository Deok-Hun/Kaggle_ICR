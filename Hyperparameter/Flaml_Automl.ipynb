{
  "metadata": {
    "kernelspec": {
      "language": "python",
      "display_name": "Python 3",
      "name": "python3"
    },
    "language_info": {
      "name": "python",
      "version": "3.10.12",
      "mimetype": "text/x-python",
      "codemirror_mode": {
        "name": "ipython",
        "version": 3
      },
      "pygments_lexer": "ipython3",
      "nbconvert_exporter": "python",
      "file_extension": ".py"
    },
    "colab": {
      "provenance": []
    }
  },
  "nbformat_minor": 0,
  "nbformat": 4,
  "cells": [
    {
      "cell_type": "markdown",
      "source": [
        "# Data 불러오기"
      ],
      "metadata": {
        "id": "y2bhCNzVd_5I"
      }
    },
    {
      "cell_type": "code",
      "source": [
        "from google.colab import drive\n",
        "drive.mount('/content/drive')"
      ],
      "metadata": {
        "id": "UZD8cyLleEOI"
      },
      "execution_count": null,
      "outputs": []
    },
    {
      "cell_type": "code",
      "source": [
        "!pip install iterative-stratification\n",
        "!pip install optuna\n",
        "!pip install --upgrade category_encoders\n",
        "!pip install catboost"
      ],
      "metadata": {
        "id": "aodUTv47eGhw"
      },
      "execution_count": null,
      "outputs": []
    },
    {
      "cell_type": "code",
      "source": [
        "!pip install flaml"
      ],
      "metadata": {
        "id": "9SsWX_XIeSzc"
      },
      "execution_count": null,
      "outputs": []
    },
    {
      "cell_type": "code",
      "source": [
        "# @title\n",
        "import sys\n",
        "import numpy as np\n",
        "import pandas as pd\n",
        "import os\n",
        "\n",
        "\n",
        "# ignore warning\n",
        "import warnings\n",
        "warnings.filterwarnings('ignore')\n",
        "\n",
        "# ML\n",
        "from sklearn.ensemble import RandomForestClassifier  # Bagging\n",
        "from xgboost.sklearn import XGBClassifier            # GBM\n",
        "from sklearn.linear_model import LogisticRegression  # LogisticRegression\n",
        "from sklearn.metrics import accuracy_score\n",
        "from sklearn.decomposition import PCA\n",
        "\n",
        "\n",
        "# Import sklearn classes for model selection, cross validation, and performance evaluation\n",
        "from sklearn.model_selection import train_test_split\n",
        "from sklearn.metrics import roc_auc_score, accuracy_score, log_loss\n",
        "\n",
        "\n",
        "# Import libraries for gradient boosting\n",
        "import xgboost as xgb\n",
        "import lightgbm as lgb\n",
        "import xgboost as xgb\n",
        "import lightgbm as lgb\n",
        "from lightgbm import LGBMClassifier\n",
        "from sklearn.ensemble import RandomForestClassifier, HistGradientBoostingClassifier, GradientBoostingClassifier\n",
        "from imblearn.ensemble import BalancedRandomForestClassifier\n",
        "\n",
        "# Suppress warnings\n",
        "import warnings\n",
        "warnings.filterwarnings(\"ignore\", category=UserWarning)\n",
        "warnings.filterwarnings(\"ignore\", category=FutureWarning)\n",
        "\n",
        "from flaml import AutoML\n",
        "\n",
        "# Hide convergence warning for now\n",
        "import warnings\n",
        "from sklearn.exceptions import ConvergenceWarning\n",
        "warnings.filterwarnings(\"ignore\", category=ConvergenceWarning)"
      ],
      "metadata": {
        "execution": {
          "iopub.status.busy": "2023-07-27T03:16:27.042256Z",
          "iopub.execute_input": "2023-07-27T03:16:27.042752Z",
          "iopub.status.idle": "2023-07-27T03:16:27.074919Z",
          "shell.execute_reply.started": "2023-07-27T03:16:27.042708Z",
          "shell.execute_reply": "2023-07-27T03:16:27.073282Z"
        },
        "trusted": true,
        "id": "OwLmn1jGd_5L"
      },
      "execution_count": null,
      "outputs": []
    },
    {
      "cell_type": "code",
      "source": [
        "# Preprocessing, Feature Engineering 완료한 데이터 불러오기\n",
        "X_train = pd.read_csv('/content/drive/MyDrive/Kaggle/SC_PJ/최종/X_train_pre.csv')\n",
        "X_test = pd.read_csv('/content/drive/MyDrive/Kaggle/SC_PJ/최종/X_test_pre.csv')\n",
        "y_train = pd.read_csv('/content/drive/MyDrive/Kaggle/SC_PJ/최종/y_train_pre.csv')\n",
        "pd.set_option('display.max_columns', None)"
      ],
      "metadata": {
        "execution": {
          "iopub.status.busy": "2023-07-27T03:16:35.389193Z",
          "iopub.execute_input": "2023-07-27T03:16:35.389702Z",
          "iopub.status.idle": "2023-07-27T03:16:35.428601Z",
          "shell.execute_reply.started": "2023-07-27T03:16:35.389664Z",
          "shell.execute_reply": "2023-07-27T03:16:35.427360Z"
        },
        "trusted": true,
        "id": "3O0MrU19d_5N"
      },
      "execution_count": null,
      "outputs": []
    },
    {
      "cell_type": "markdown",
      "source": [
        "# Automl flaml 시작"
      ],
      "metadata": {
        "id": "hQM4Jzv0ZhhU"
      }
    },
    {
      "cell_type": "code",
      "source": [
        "# Automl을 위해 values로 바꿈\n",
        "X_train = X_train.values\n",
        "X_test = X_test.values\n",
        "y_train = y_train.values"
      ],
      "metadata": {
        "execution": {
          "iopub.status.busy": "2023-07-27T03:17:28.876123Z",
          "iopub.execute_input": "2023-07-27T03:17:28.876543Z",
          "iopub.status.idle": "2023-07-27T03:17:28.886407Z",
          "shell.execute_reply.started": "2023-07-27T03:17:28.876511Z",
          "shell.execute_reply": "2023-07-27T03:17:28.885236Z"
        },
        "trusted": true,
        "id": "u3pMlKJXd_5Q"
      },
      "execution_count": null,
      "outputs": []
    },
    {
      "cell_type": "markdown",
      "source": [
        "## LGBM"
      ],
      "metadata": {
        "id": "34zfo8VJYJXV"
      }
    },
    {
      "cell_type": "code",
      "source": [
        "auto_model = AutoML()\n",
        "settings = {\n",
        "    \"metric\": 'log_loss', # primary metrics for regression can be chosen from: ['mae','mse','r2']\n",
        "    \"estimator_list\": ['lgbm'], # list of ML learners; we tune xgboost in this example\n",
        "    \"task\": 'classification', # task type\n",
        "    \"log_file_name\": 'carbon_monoxide_predictor.log',\n",
        "    \"time_budget\": 100# flaml log file\n",
        "}\n",
        "auto_model.fit(X_train=X_train, y_train=y_train, **settings) # X_train, y_train"
      ],
      "metadata": {
        "execution": {
          "iopub.status.busy": "2023-07-27T03:17:31.779539Z",
          "iopub.execute_input": "2023-07-27T03:17:31.780736Z",
          "iopub.status.idle": "2023-07-27T03:17:37.461305Z",
          "shell.execute_reply.started": "2023-07-27T03:17:31.780697Z",
          "shell.execute_reply": "2023-07-27T03:17:37.459502Z"
        },
        "trusted": true,
        "colab": {
          "base_uri": "https://localhost:8080/"
        },
        "id": "umlTW_w2d_5Q",
        "outputId": "6fca1dd3-1847-4c2f-e769-f4c9795636df"
      },
      "execution_count": null,
      "outputs": [
        {
          "output_type": "stream",
          "name": "stdout",
          "text": [
            "[flaml.automl.logger: 07-27 07:00:06] {1693} INFO - task = classification\n",
            "[flaml.automl.logger: 07-27 07:00:06] {1700} INFO - Data split method: stratified\n",
            "[flaml.automl.logger: 07-27 07:00:06] {1703} INFO - Evaluation method: cv\n",
            "[flaml.automl.logger: 07-27 07:00:06] {1801} INFO - Minimizing error metric: log_loss\n",
            "[flaml.automl.logger: 07-27 07:00:06] {1911} INFO - List of ML learners in AutoML Run: ['lgbm']\n",
            "[flaml.automl.logger: 07-27 07:00:06] {2221} INFO - iteration 0, current learner lgbm\n",
            "[flaml.automl.logger: 07-27 07:00:07] {2347} INFO - Estimated sufficient time budget=10942s. Estimated necessary time budget=11s.\n",
            "[flaml.automl.logger: 07-27 07:00:07] {2394} INFO -  at 1.1s,\testimator lgbm's best error=0.4293,\tbest estimator lgbm's best error=0.4293\n",
            "[flaml.automl.logger: 07-27 07:00:07] {2221} INFO - iteration 1, current learner lgbm\n",
            "[flaml.automl.logger: 07-27 07:00:08] {2394} INFO -  at 1.8s,\testimator lgbm's best error=0.4293,\tbest estimator lgbm's best error=0.4293\n",
            "[flaml.automl.logger: 07-27 07:00:08] {2221} INFO - iteration 2, current learner lgbm\n",
            "[flaml.automl.logger: 07-27 07:00:08] {2394} INFO -  at 1.9s,\testimator lgbm's best error=0.3205,\tbest estimator lgbm's best error=0.3205\n",
            "[flaml.automl.logger: 07-27 07:00:08] {2221} INFO - iteration 3, current learner lgbm\n",
            "[flaml.automl.logger: 07-27 07:00:08] {2394} INFO -  at 2.0s,\testimator lgbm's best error=0.1364,\tbest estimator lgbm's best error=0.1364\n",
            "[flaml.automl.logger: 07-27 07:00:08] {2221} INFO - iteration 4, current learner lgbm\n",
            "[flaml.automl.logger: 07-27 07:00:08] {2394} INFO -  at 2.1s,\testimator lgbm's best error=0.1364,\tbest estimator lgbm's best error=0.1364\n",
            "[flaml.automl.logger: 07-27 07:00:08] {2221} INFO - iteration 5, current learner lgbm\n",
            "[flaml.automl.logger: 07-27 07:00:08] {2394} INFO -  at 2.3s,\testimator lgbm's best error=0.1167,\tbest estimator lgbm's best error=0.1167\n",
            "[flaml.automl.logger: 07-27 07:00:08] {2221} INFO - iteration 6, current learner lgbm\n",
            "[flaml.automl.logger: 07-27 07:00:09] {2394} INFO -  at 2.4s,\testimator lgbm's best error=0.1167,\tbest estimator lgbm's best error=0.1167\n",
            "[flaml.automl.logger: 07-27 07:00:09] {2221} INFO - iteration 7, current learner lgbm\n",
            "[flaml.automl.logger: 07-27 07:00:09] {2394} INFO -  at 2.5s,\testimator lgbm's best error=0.1167,\tbest estimator lgbm's best error=0.1167\n",
            "[flaml.automl.logger: 07-27 07:00:09] {2221} INFO - iteration 8, current learner lgbm\n",
            "[flaml.automl.logger: 07-27 07:00:09] {2394} INFO -  at 2.7s,\testimator lgbm's best error=0.0915,\tbest estimator lgbm's best error=0.0915\n",
            "[flaml.automl.logger: 07-27 07:00:09] {2221} INFO - iteration 9, current learner lgbm\n",
            "[flaml.automl.logger: 07-27 07:00:09] {2394} INFO -  at 2.9s,\testimator lgbm's best error=0.0915,\tbest estimator lgbm's best error=0.0915\n",
            "[flaml.automl.logger: 07-27 07:00:09] {2221} INFO - iteration 10, current learner lgbm\n",
            "[flaml.automl.logger: 07-27 07:00:10] {2394} INFO -  at 3.5s,\testimator lgbm's best error=0.0439,\tbest estimator lgbm's best error=0.0439\n",
            "[flaml.automl.logger: 07-27 07:00:10] {2221} INFO - iteration 11, current learner lgbm\n",
            "[flaml.automl.logger: 07-27 07:00:10] {2394} INFO -  at 4.2s,\testimator lgbm's best error=0.0439,\tbest estimator lgbm's best error=0.0439\n",
            "[flaml.automl.logger: 07-27 07:00:10] {2221} INFO - iteration 12, current learner lgbm\n",
            "[flaml.automl.logger: 07-27 07:00:11] {2394} INFO -  at 4.6s,\testimator lgbm's best error=0.0439,\tbest estimator lgbm's best error=0.0439\n",
            "[flaml.automl.logger: 07-27 07:00:11] {2221} INFO - iteration 13, current learner lgbm\n",
            "[flaml.automl.logger: 07-27 07:00:11] {2394} INFO -  at 5.2s,\testimator lgbm's best error=0.0439,\tbest estimator lgbm's best error=0.0439\n",
            "[flaml.automl.logger: 07-27 07:00:11] {2221} INFO - iteration 14, current learner lgbm\n",
            "[flaml.automl.logger: 07-27 07:00:12] {2394} INFO -  at 5.7s,\testimator lgbm's best error=0.0439,\tbest estimator lgbm's best error=0.0439\n",
            "[flaml.automl.logger: 07-27 07:00:12] {2221} INFO - iteration 15, current learner lgbm\n",
            "[flaml.automl.logger: 07-27 07:00:12] {2394} INFO -  at 6.3s,\testimator lgbm's best error=0.0439,\tbest estimator lgbm's best error=0.0439\n",
            "[flaml.automl.logger: 07-27 07:00:12] {2221} INFO - iteration 16, current learner lgbm\n",
            "[flaml.automl.logger: 07-27 07:00:13] {2394} INFO -  at 6.6s,\testimator lgbm's best error=0.0439,\tbest estimator lgbm's best error=0.0439\n",
            "[flaml.automl.logger: 07-27 07:00:13] {2221} INFO - iteration 17, current learner lgbm\n",
            "[flaml.automl.logger: 07-27 07:00:14] {2394} INFO -  at 8.3s,\testimator lgbm's best error=0.0439,\tbest estimator lgbm's best error=0.0439\n",
            "[flaml.automl.logger: 07-27 07:00:14] {2221} INFO - iteration 18, current learner lgbm\n",
            "[flaml.automl.logger: 07-27 07:00:15] {2394} INFO -  at 8.5s,\testimator lgbm's best error=0.0439,\tbest estimator lgbm's best error=0.0439\n",
            "[flaml.automl.logger: 07-27 07:00:15] {2221} INFO - iteration 19, current learner lgbm\n",
            "[flaml.automl.logger: 07-27 07:00:17] {2394} INFO -  at 11.1s,\testimator lgbm's best error=0.0380,\tbest estimator lgbm's best error=0.0380\n",
            "[flaml.automl.logger: 07-27 07:00:17] {2221} INFO - iteration 20, current learner lgbm\n",
            "[flaml.automl.logger: 07-27 07:00:18] {2394} INFO -  at 11.7s,\testimator lgbm's best error=0.0380,\tbest estimator lgbm's best error=0.0380\n",
            "[flaml.automl.logger: 07-27 07:00:18] {2221} INFO - iteration 21, current learner lgbm\n",
            "[flaml.automl.logger: 07-27 07:00:18] {2394} INFO -  at 12.2s,\testimator lgbm's best error=0.0380,\tbest estimator lgbm's best error=0.0380\n",
            "[flaml.automl.logger: 07-27 07:00:18] {2221} INFO - iteration 22, current learner lgbm\n",
            "[flaml.automl.logger: 07-27 07:00:19] {2394} INFO -  at 12.5s,\testimator lgbm's best error=0.0380,\tbest estimator lgbm's best error=0.0380\n",
            "[flaml.automl.logger: 07-27 07:00:19] {2221} INFO - iteration 23, current learner lgbm\n",
            "[flaml.automl.logger: 07-27 07:00:19] {2394} INFO -  at 12.9s,\testimator lgbm's best error=0.0380,\tbest estimator lgbm's best error=0.0380\n",
            "[flaml.automl.logger: 07-27 07:00:19] {2221} INFO - iteration 24, current learner lgbm\n",
            "[flaml.automl.logger: 07-27 07:00:19] {2394} INFO -  at 13.4s,\testimator lgbm's best error=0.0380,\tbest estimator lgbm's best error=0.0380\n",
            "[flaml.automl.logger: 07-27 07:00:19] {2221} INFO - iteration 25, current learner lgbm\n",
            "[flaml.automl.logger: 07-27 07:00:20] {2394} INFO -  at 14.3s,\testimator lgbm's best error=0.0380,\tbest estimator lgbm's best error=0.0380\n",
            "[flaml.automl.logger: 07-27 07:00:20] {2221} INFO - iteration 26, current learner lgbm\n",
            "[flaml.automl.logger: 07-27 07:00:21] {2394} INFO -  at 14.6s,\testimator lgbm's best error=0.0380,\tbest estimator lgbm's best error=0.0380\n",
            "[flaml.automl.logger: 07-27 07:00:21] {2221} INFO - iteration 27, current learner lgbm\n",
            "[flaml.automl.logger: 07-27 07:00:21] {2394} INFO -  at 15.0s,\testimator lgbm's best error=0.0380,\tbest estimator lgbm's best error=0.0380\n",
            "[flaml.automl.logger: 07-27 07:00:21] {2221} INFO - iteration 28, current learner lgbm\n",
            "[flaml.automl.logger: 07-27 07:00:21] {2394} INFO -  at 15.2s,\testimator lgbm's best error=0.0380,\tbest estimator lgbm's best error=0.0380\n",
            "[flaml.automl.logger: 07-27 07:00:21] {2221} INFO - iteration 29, current learner lgbm\n",
            "[flaml.automl.logger: 07-27 07:00:21] {2394} INFO -  at 15.4s,\testimator lgbm's best error=0.0380,\tbest estimator lgbm's best error=0.0380\n",
            "[flaml.automl.logger: 07-27 07:00:21] {2221} INFO - iteration 30, current learner lgbm\n",
            "[flaml.automl.logger: 07-27 07:00:22] {2394} INFO -  at 16.1s,\testimator lgbm's best error=0.0380,\tbest estimator lgbm's best error=0.0380\n",
            "[flaml.automl.logger: 07-27 07:00:22] {2221} INFO - iteration 31, current learner lgbm\n",
            "[flaml.automl.logger: 07-27 07:00:22] {2394} INFO -  at 16.4s,\testimator lgbm's best error=0.0380,\tbest estimator lgbm's best error=0.0380\n",
            "[flaml.automl.logger: 07-27 07:00:22] {2221} INFO - iteration 32, current learner lgbm\n",
            "[flaml.automl.logger: 07-27 07:00:23] {2394} INFO -  at 16.9s,\testimator lgbm's best error=0.0380,\tbest estimator lgbm's best error=0.0380\n",
            "[flaml.automl.logger: 07-27 07:00:23] {2221} INFO - iteration 33, current learner lgbm\n",
            "[flaml.automl.logger: 07-27 07:00:23] {2394} INFO -  at 17.3s,\testimator lgbm's best error=0.0380,\tbest estimator lgbm's best error=0.0380\n",
            "[flaml.automl.logger: 07-27 07:00:23] {2221} INFO - iteration 34, current learner lgbm\n",
            "[flaml.automl.logger: 07-27 07:00:24] {2394} INFO -  at 17.7s,\testimator lgbm's best error=0.0380,\tbest estimator lgbm's best error=0.0380\n",
            "[flaml.automl.logger: 07-27 07:00:24] {2221} INFO - iteration 35, current learner lgbm\n",
            "[flaml.automl.logger: 07-27 07:00:24] {2394} INFO -  at 18.3s,\testimator lgbm's best error=0.0380,\tbest estimator lgbm's best error=0.0380\n",
            "[flaml.automl.logger: 07-27 07:00:24] {2221} INFO - iteration 36, current learner lgbm\n",
            "[flaml.automl.logger: 07-27 07:00:25] {2394} INFO -  at 18.5s,\testimator lgbm's best error=0.0380,\tbest estimator lgbm's best error=0.0380\n",
            "[flaml.automl.logger: 07-27 07:00:25] {2221} INFO - iteration 37, current learner lgbm\n",
            "[flaml.automl.logger: 07-27 07:00:25] {2394} INFO -  at 19.2s,\testimator lgbm's best error=0.0380,\tbest estimator lgbm's best error=0.0380\n",
            "[flaml.automl.logger: 07-27 07:00:25] {2221} INFO - iteration 38, current learner lgbm\n",
            "[flaml.automl.logger: 07-27 07:00:25] {2394} INFO -  at 19.4s,\testimator lgbm's best error=0.0380,\tbest estimator lgbm's best error=0.0380\n",
            "[flaml.automl.logger: 07-27 07:00:25] {2221} INFO - iteration 39, current learner lgbm\n",
            "[flaml.automl.logger: 07-27 07:00:26] {2394} INFO -  at 20.2s,\testimator lgbm's best error=0.0380,\tbest estimator lgbm's best error=0.0380\n",
            "[flaml.automl.logger: 07-27 07:00:26] {2221} INFO - iteration 40, current learner lgbm\n",
            "[flaml.automl.logger: 07-27 07:00:26] {2394} INFO -  at 20.3s,\testimator lgbm's best error=0.0380,\tbest estimator lgbm's best error=0.0380\n",
            "[flaml.automl.logger: 07-27 07:00:26] {2221} INFO - iteration 41, current learner lgbm\n",
            "[flaml.automl.logger: 07-27 07:00:27] {2394} INFO -  at 20.5s,\testimator lgbm's best error=0.0380,\tbest estimator lgbm's best error=0.0380\n",
            "[flaml.automl.logger: 07-27 07:00:27] {2221} INFO - iteration 42, current learner lgbm\n",
            "[flaml.automl.logger: 07-27 07:00:30] {2394} INFO -  at 24.1s,\testimator lgbm's best error=0.0351,\tbest estimator lgbm's best error=0.0351\n",
            "[flaml.automl.logger: 07-27 07:00:30] {2221} INFO - iteration 43, current learner lgbm\n",
            "[flaml.automl.logger: 07-27 07:00:32] {2394} INFO -  at 26.0s,\testimator lgbm's best error=0.0351,\tbest estimator lgbm's best error=0.0351\n",
            "[flaml.automl.logger: 07-27 07:00:32] {2221} INFO - iteration 44, current learner lgbm\n",
            "[flaml.automl.logger: 07-27 07:00:33] {2394} INFO -  at 26.7s,\testimator lgbm's best error=0.0351,\tbest estimator lgbm's best error=0.0351\n",
            "[flaml.automl.logger: 07-27 07:00:33] {2221} INFO - iteration 45, current learner lgbm\n",
            "[flaml.automl.logger: 07-27 07:00:33] {2394} INFO -  at 27.1s,\testimator lgbm's best error=0.0351,\tbest estimator lgbm's best error=0.0351\n",
            "[flaml.automl.logger: 07-27 07:00:33] {2221} INFO - iteration 46, current learner lgbm\n",
            "[flaml.automl.logger: 07-27 07:00:35] {2394} INFO -  at 29.3s,\testimator lgbm's best error=0.0351,\tbest estimator lgbm's best error=0.0351\n",
            "[flaml.automl.logger: 07-27 07:00:35] {2221} INFO - iteration 47, current learner lgbm\n",
            "[flaml.automl.logger: 07-27 07:00:36] {2394} INFO -  at 29.7s,\testimator lgbm's best error=0.0351,\tbest estimator lgbm's best error=0.0351\n",
            "[flaml.automl.logger: 07-27 07:00:36] {2221} INFO - iteration 48, current learner lgbm\n",
            "[flaml.automl.logger: 07-27 07:00:39] {2394} INFO -  at 32.9s,\testimator lgbm's best error=0.0351,\tbest estimator lgbm's best error=0.0351\n",
            "[flaml.automl.logger: 07-27 07:00:39] {2221} INFO - iteration 49, current learner lgbm\n",
            "[flaml.automl.logger: 07-27 07:00:39] {2394} INFO -  at 33.2s,\testimator lgbm's best error=0.0351,\tbest estimator lgbm's best error=0.0351\n",
            "[flaml.automl.logger: 07-27 07:00:39] {2221} INFO - iteration 50, current learner lgbm\n",
            "[flaml.automl.logger: 07-27 07:00:45] {2394} INFO -  at 39.2s,\testimator lgbm's best error=0.0351,\tbest estimator lgbm's best error=0.0351\n",
            "[flaml.automl.logger: 07-27 07:00:45] {2221} INFO - iteration 51, current learner lgbm\n",
            "[flaml.automl.logger: 07-27 07:00:49] {2394} INFO -  at 43.0s,\testimator lgbm's best error=0.0351,\tbest estimator lgbm's best error=0.0351\n",
            "[flaml.automl.logger: 07-27 07:00:49] {2221} INFO - iteration 52, current learner lgbm\n",
            "[flaml.automl.logger: 07-27 07:00:50] {2394} INFO -  at 43.7s,\testimator lgbm's best error=0.0351,\tbest estimator lgbm's best error=0.0351\n",
            "[flaml.automl.logger: 07-27 07:00:50] {2221} INFO - iteration 53, current learner lgbm\n",
            "[flaml.automl.logger: 07-27 07:00:56] {2394} INFO -  at 49.8s,\testimator lgbm's best error=0.0351,\tbest estimator lgbm's best error=0.0351\n",
            "[flaml.automl.logger: 07-27 07:00:56] {2221} INFO - iteration 54, current learner lgbm\n",
            "[flaml.automl.logger: 07-27 07:00:56] {2394} INFO -  at 50.3s,\testimator lgbm's best error=0.0351,\tbest estimator lgbm's best error=0.0351\n",
            "[flaml.automl.logger: 07-27 07:00:56] {2221} INFO - iteration 55, current learner lgbm\n",
            "[flaml.automl.logger: 07-27 07:00:58] {2394} INFO -  at 51.6s,\testimator lgbm's best error=0.0351,\tbest estimator lgbm's best error=0.0351\n",
            "[flaml.automl.logger: 07-27 07:00:58] {2221} INFO - iteration 56, current learner lgbm\n",
            "[flaml.automl.logger: 07-27 07:01:00] {2394} INFO -  at 53.4s,\testimator lgbm's best error=0.0351,\tbest estimator lgbm's best error=0.0351\n",
            "[flaml.automl.logger: 07-27 07:01:00] {2221} INFO - iteration 57, current learner lgbm\n",
            "[flaml.automl.logger: 07-27 07:01:01] {2394} INFO -  at 54.8s,\testimator lgbm's best error=0.0351,\tbest estimator lgbm's best error=0.0351\n",
            "[flaml.automl.logger: 07-27 07:01:01] {2221} INFO - iteration 58, current learner lgbm\n",
            "[flaml.automl.logger: 07-27 07:01:02] {2394} INFO -  at 56.3s,\testimator lgbm's best error=0.0351,\tbest estimator lgbm's best error=0.0351\n",
            "[flaml.automl.logger: 07-27 07:01:02] {2221} INFO - iteration 59, current learner lgbm\n",
            "[flaml.automl.logger: 07-27 07:01:03] {2394} INFO -  at 56.8s,\testimator lgbm's best error=0.0351,\tbest estimator lgbm's best error=0.0351\n",
            "[flaml.automl.logger: 07-27 07:01:03] {2221} INFO - iteration 60, current learner lgbm\n",
            "[flaml.automl.logger: 07-27 07:01:06] {2394} INFO -  at 60.2s,\testimator lgbm's best error=0.0351,\tbest estimator lgbm's best error=0.0351\n",
            "[flaml.automl.logger: 07-27 07:01:06] {2221} INFO - iteration 61, current learner lgbm\n",
            "[flaml.automl.logger: 07-27 07:01:09] {2394} INFO -  at 62.5s,\testimator lgbm's best error=0.0351,\tbest estimator lgbm's best error=0.0351\n",
            "[flaml.automl.logger: 07-27 07:01:09] {2221} INFO - iteration 62, current learner lgbm\n",
            "[flaml.automl.logger: 07-27 07:01:09] {2394} INFO -  at 63.0s,\testimator lgbm's best error=0.0351,\tbest estimator lgbm's best error=0.0351\n",
            "[flaml.automl.logger: 07-27 07:01:09] {2221} INFO - iteration 63, current learner lgbm\n",
            "[flaml.automl.logger: 07-27 07:01:12] {2394} INFO -  at 66.4s,\testimator lgbm's best error=0.0351,\tbest estimator lgbm's best error=0.0351\n",
            "[flaml.automl.logger: 07-27 07:01:12] {2221} INFO - iteration 64, current learner lgbm\n",
            "[flaml.automl.logger: 07-27 07:01:13] {2394} INFO -  at 67.0s,\testimator lgbm's best error=0.0351,\tbest estimator lgbm's best error=0.0351\n",
            "[flaml.automl.logger: 07-27 07:01:13] {2221} INFO - iteration 65, current learner lgbm\n",
            "[flaml.automl.logger: 07-27 07:01:14] {2394} INFO -  at 67.7s,\testimator lgbm's best error=0.0351,\tbest estimator lgbm's best error=0.0351\n",
            "[flaml.automl.logger: 07-27 07:01:14] {2221} INFO - iteration 66, current learner lgbm\n",
            "[flaml.automl.logger: 07-27 07:01:15] {2394} INFO -  at 69.2s,\testimator lgbm's best error=0.0351,\tbest estimator lgbm's best error=0.0351\n",
            "[flaml.automl.logger: 07-27 07:01:15] {2221} INFO - iteration 67, current learner lgbm\n",
            "[flaml.automl.logger: 07-27 07:01:16] {2394} INFO -  at 70.0s,\testimator lgbm's best error=0.0351,\tbest estimator lgbm's best error=0.0351\n",
            "[flaml.automl.logger: 07-27 07:01:16] {2221} INFO - iteration 68, current learner lgbm\n",
            "[flaml.automl.logger: 07-27 07:01:20] {2394} INFO -  at 74.0s,\testimator lgbm's best error=0.0351,\tbest estimator lgbm's best error=0.0351\n",
            "[flaml.automl.logger: 07-27 07:01:20] {2221} INFO - iteration 69, current learner lgbm\n",
            "[flaml.automl.logger: 07-27 07:01:24] {2394} INFO -  at 78.3s,\testimator lgbm's best error=0.0351,\tbest estimator lgbm's best error=0.0351\n",
            "[flaml.automl.logger: 07-27 07:01:24] {2221} INFO - iteration 70, current learner lgbm\n",
            "[flaml.automl.logger: 07-27 07:01:25] {2394} INFO -  at 78.9s,\testimator lgbm's best error=0.0351,\tbest estimator lgbm's best error=0.0351\n",
            "[flaml.automl.logger: 07-27 07:01:25] {2221} INFO - iteration 71, current learner lgbm\n",
            "[flaml.automl.logger: 07-27 07:01:27] {2394} INFO -  at 80.6s,\testimator lgbm's best error=0.0351,\tbest estimator lgbm's best error=0.0351\n",
            "[flaml.automl.logger: 07-27 07:01:27] {2221} INFO - iteration 72, current learner lgbm\n",
            "[flaml.automl.logger: 07-27 07:01:27] {2394} INFO -  at 81.3s,\testimator lgbm's best error=0.0351,\tbest estimator lgbm's best error=0.0351\n",
            "[flaml.automl.logger: 07-27 07:01:27] {2221} INFO - iteration 73, current learner lgbm\n",
            "[flaml.automl.logger: 07-27 07:01:28] {2394} INFO -  at 81.7s,\testimator lgbm's best error=0.0351,\tbest estimator lgbm's best error=0.0351\n",
            "[flaml.automl.logger: 07-27 07:01:28] {2221} INFO - iteration 74, current learner lgbm\n",
            "[flaml.automl.logger: 07-27 07:01:36] {2394} INFO -  at 89.5s,\testimator lgbm's best error=0.0351,\tbest estimator lgbm's best error=0.0351\n",
            "[flaml.automl.logger: 07-27 07:01:36] {2221} INFO - iteration 75, current learner lgbm\n",
            "[flaml.automl.logger: 07-27 07:01:38] {2394} INFO -  at 91.4s,\testimator lgbm's best error=0.0351,\tbest estimator lgbm's best error=0.0351\n",
            "[flaml.automl.logger: 07-27 07:01:38] {2221} INFO - iteration 76, current learner lgbm\n",
            "[flaml.automl.logger: 07-27 07:01:38] {2394} INFO -  at 92.1s,\testimator lgbm's best error=0.0351,\tbest estimator lgbm's best error=0.0351\n",
            "[flaml.automl.logger: 07-27 07:01:38] {2221} INFO - iteration 77, current learner lgbm\n",
            "[flaml.automl.logger: 07-27 07:01:39] {2394} INFO -  at 92.6s,\testimator lgbm's best error=0.0351,\tbest estimator lgbm's best error=0.0351\n",
            "[flaml.automl.logger: 07-27 07:01:39] {2221} INFO - iteration 78, current learner lgbm\n",
            "[flaml.automl.logger: 07-27 07:01:44] {2394} INFO -  at 98.3s,\testimator lgbm's best error=0.0351,\tbest estimator lgbm's best error=0.0351\n",
            "[flaml.automl.logger: 07-27 07:01:45] {2630} INFO - retrain lgbm for 0.4s\n",
            "[flaml.automl.logger: 07-27 07:01:45] {2633} INFO - retrained model: LGBMClassifier(colsample_bytree=0.8302082011667893,\n",
            "               learning_rate=0.20204929944793612, max_bin=1023,\n",
            "               min_child_samples=4, n_estimators=94, num_leaves=9,\n",
            "               reg_alpha=0.003148211294343311, reg_lambda=0.003165384302202214,\n",
            "               verbose=-1)\n",
            "[flaml.automl.logger: 07-27 07:01:45] {1941} INFO - fit succeeded\n",
            "[flaml.automl.logger: 07-27 07:01:45] {1942} INFO - Time taken to find the best model: 24.055928468704224\n"
          ]
        }
      ]
    },
    {
      "cell_type": "code",
      "source": [
        "print('Best estimator:', auto_model.best_estimator)\n",
        "print('Best hyperparmeter config:', auto_model.best_config)\n",
        "print('Training duration of best run: {0:.4g} s'.format(auto_model.best_config_train_time))\n",
        "print(auto_model.model.estimator)"
      ],
      "metadata": {
        "colab": {
          "base_uri": "https://localhost:8080/"
        },
        "id": "IlyY0ga5d_5Q",
        "outputId": "e23aa041-e8c4-4e44-f54f-3ff4c6bb180e"
      },
      "execution_count": null,
      "outputs": [
        {
          "output_type": "stream",
          "name": "stdout",
          "text": [
            "Best estimator: lgbm\n",
            "Best hyperparmeter config: {'n_estimators': 94, 'num_leaves': 9, 'min_child_samples': 4, 'learning_rate': 0.20204929944793612, 'log_max_bin': 10, 'colsample_bytree': 0.8302082011667893, 'reg_alpha': 0.003148211294343311, 'reg_lambda': 0.003165384302202214}\n",
            "Training duration of best run: 0.3767 s\n",
            "LGBMClassifier(colsample_bytree=0.8302082011667893,\n",
            "               learning_rate=0.20204929944793612, max_bin=1023,\n",
            "               min_child_samples=4, n_estimators=94, num_leaves=9,\n",
            "               reg_alpha=0.003148211294343311, reg_lambda=0.003165384302202214,\n",
            "               verbose=-1)\n"
          ]
        }
      ]
    },
    {
      "cell_type": "markdown",
      "source": [
        "## xgboost"
      ],
      "metadata": {
        "id": "QR2zg-msYHXr"
      }
    },
    {
      "cell_type": "code",
      "source": [
        "auto_model = AutoML()\n",
        "settings = {\n",
        "    \"metric\": 'log_loss', # primary metrics for regression can be chosen from: ['mae','mse','r2']\n",
        "    \"estimator_list\": ['xgboost'], # list of ML learners; we tune xgboost in this example\n",
        "    \"task\": 'classification', # task type\n",
        "    \"log_file_name\": 'carbon_monoxide_predictor.log',\n",
        "    \"time_budget\": 60# flaml log file\n",
        "}\n",
        "auto_model.fit(X_train=X_train, y_train=y_train, **settings) # X_train, y_train\n",
        "\n",
        "print('Best estimator:', auto_model.best_estimator)\n",
        "print('Best hyperparmeter config:', auto_model.best_config)\n",
        "print('Training duration of best run: {0:.4g} s'.format(auto_model.best_config_train_time))"
      ],
      "metadata": {
        "colab": {
          "base_uri": "https://localhost:8080/"
        },
        "id": "MBezzWzvoo8O",
        "outputId": "1e231c52-fce1-4e30-c3f9-bee6863e13e9"
      },
      "execution_count": null,
      "outputs": [
        {
          "output_type": "stream",
          "name": "stdout",
          "text": [
            "[flaml.automl.logger: 07-27 07:12:33] {1693} INFO - task = classification\n",
            "[flaml.automl.logger: 07-27 07:12:33] {1700} INFO - Data split method: stratified\n",
            "[flaml.automl.logger: 07-27 07:12:33] {1703} INFO - Evaluation method: cv\n",
            "[flaml.automl.logger: 07-27 07:12:33] {1801} INFO - Minimizing error metric: log_loss\n",
            "[flaml.automl.logger: 07-27 07:12:33] {1911} INFO - List of ML learners in AutoML Run: ['xgboost']\n",
            "[flaml.automl.logger: 07-27 07:12:33] {2221} INFO - iteration 0, current learner xgboost\n",
            "[flaml.automl.logger: 07-27 07:12:33] {2347} INFO - Estimated sufficient time budget=1253s. Estimated necessary time budget=1s.\n",
            "[flaml.automl.logger: 07-27 07:12:33] {2394} INFO -  at 0.1s,\testimator xgboost's best error=0.5133,\tbest estimator xgboost's best error=0.5133\n",
            "[flaml.automl.logger: 07-27 07:12:33] {2221} INFO - iteration 1, current learner xgboost\n",
            "[flaml.automl.logger: 07-27 07:12:33] {2394} INFO -  at 0.3s,\testimator xgboost's best error=0.5133,\tbest estimator xgboost's best error=0.5133\n",
            "[flaml.automl.logger: 07-27 07:12:33] {2221} INFO - iteration 2, current learner xgboost\n",
            "[flaml.automl.logger: 07-27 07:12:33] {2394} INFO -  at 0.4s,\testimator xgboost's best error=0.3607,\tbest estimator xgboost's best error=0.3607\n",
            "[flaml.automl.logger: 07-27 07:12:33] {2221} INFO - iteration 3, current learner xgboost\n",
            "[flaml.automl.logger: 07-27 07:12:34] {2394} INFO -  at 0.5s,\testimator xgboost's best error=0.2028,\tbest estimator xgboost's best error=0.2028\n",
            "[flaml.automl.logger: 07-27 07:12:34] {2221} INFO - iteration 4, current learner xgboost\n",
            "[flaml.automl.logger: 07-27 07:12:34] {2394} INFO -  at 0.6s,\testimator xgboost's best error=0.2028,\tbest estimator xgboost's best error=0.2028\n",
            "[flaml.automl.logger: 07-27 07:12:34] {2221} INFO - iteration 5, current learner xgboost\n",
            "[flaml.automl.logger: 07-27 07:12:34] {2394} INFO -  at 0.7s,\testimator xgboost's best error=0.2028,\tbest estimator xgboost's best error=0.2028\n",
            "[flaml.automl.logger: 07-27 07:12:34] {2221} INFO - iteration 6, current learner xgboost\n",
            "[flaml.automl.logger: 07-27 07:12:34] {2394} INFO -  at 0.8s,\testimator xgboost's best error=0.1309,\tbest estimator xgboost's best error=0.1309\n",
            "[flaml.automl.logger: 07-27 07:12:34] {2221} INFO - iteration 7, current learner xgboost\n",
            "[flaml.automl.logger: 07-27 07:12:34] {2394} INFO -  at 1.0s,\testimator xgboost's best error=0.1042,\tbest estimator xgboost's best error=0.1042\n",
            "[flaml.automl.logger: 07-27 07:12:34] {2221} INFO - iteration 8, current learner xgboost\n",
            "[flaml.automl.logger: 07-27 07:12:34] {2394} INFO -  at 1.2s,\testimator xgboost's best error=0.1042,\tbest estimator xgboost's best error=0.1042\n",
            "[flaml.automl.logger: 07-27 07:12:34] {2221} INFO - iteration 9, current learner xgboost\n",
            "[flaml.automl.logger: 07-27 07:12:34] {2394} INFO -  at 1.3s,\testimator xgboost's best error=0.1042,\tbest estimator xgboost's best error=0.1042\n",
            "[flaml.automl.logger: 07-27 07:12:34] {2221} INFO - iteration 10, current learner xgboost\n",
            "[flaml.automl.logger: 07-27 07:12:35] {2394} INFO -  at 1.5s,\testimator xgboost's best error=0.1005,\tbest estimator xgboost's best error=0.1005\n",
            "[flaml.automl.logger: 07-27 07:12:35] {2221} INFO - iteration 11, current learner xgboost\n",
            "[flaml.automl.logger: 07-27 07:12:35] {2394} INFO -  at 1.6s,\testimator xgboost's best error=0.1005,\tbest estimator xgboost's best error=0.1005\n",
            "[flaml.automl.logger: 07-27 07:12:35] {2221} INFO - iteration 12, current learner xgboost\n",
            "[flaml.automl.logger: 07-27 07:12:35] {2394} INFO -  at 1.8s,\testimator xgboost's best error=0.1005,\tbest estimator xgboost's best error=0.1005\n",
            "[flaml.automl.logger: 07-27 07:12:35] {2221} INFO - iteration 13, current learner xgboost\n",
            "[flaml.automl.logger: 07-27 07:12:35] {2394} INFO -  at 1.9s,\testimator xgboost's best error=0.1005,\tbest estimator xgboost's best error=0.1005\n",
            "[flaml.automl.logger: 07-27 07:12:35] {2221} INFO - iteration 14, current learner xgboost\n",
            "[flaml.automl.logger: 07-27 07:12:35] {2394} INFO -  at 2.2s,\testimator xgboost's best error=0.1003,\tbest estimator xgboost's best error=0.1003\n",
            "[flaml.automl.logger: 07-27 07:12:35] {2221} INFO - iteration 15, current learner xgboost\n",
            "[flaml.automl.logger: 07-27 07:12:35] {2394} INFO -  at 2.3s,\testimator xgboost's best error=0.1003,\tbest estimator xgboost's best error=0.1003\n",
            "[flaml.automl.logger: 07-27 07:12:35] {2221} INFO - iteration 16, current learner xgboost\n",
            "[flaml.automl.logger: 07-27 07:12:36] {2394} INFO -  at 2.7s,\testimator xgboost's best error=0.0486,\tbest estimator xgboost's best error=0.0486\n",
            "[flaml.automl.logger: 07-27 07:12:36] {2221} INFO - iteration 17, current learner xgboost\n",
            "[flaml.automl.logger: 07-27 07:12:36] {2394} INFO -  at 2.9s,\testimator xgboost's best error=0.0486,\tbest estimator xgboost's best error=0.0486\n",
            "[flaml.automl.logger: 07-27 07:12:36] {2221} INFO - iteration 18, current learner xgboost\n",
            "[flaml.automl.logger: 07-27 07:12:37] {2394} INFO -  at 3.5s,\testimator xgboost's best error=0.0447,\tbest estimator xgboost's best error=0.0447\n",
            "[flaml.automl.logger: 07-27 07:12:37] {2221} INFO - iteration 19, current learner xgboost\n",
            "[flaml.automl.logger: 07-27 07:12:37] {2394} INFO -  at 3.7s,\testimator xgboost's best error=0.0447,\tbest estimator xgboost's best error=0.0447\n",
            "[flaml.automl.logger: 07-27 07:12:37] {2221} INFO - iteration 20, current learner xgboost\n",
            "[flaml.automl.logger: 07-27 07:12:38] {2394} INFO -  at 5.1s,\testimator xgboost's best error=0.0390,\tbest estimator xgboost's best error=0.0390\n",
            "[flaml.automl.logger: 07-27 07:12:38] {2221} INFO - iteration 21, current learner xgboost\n",
            "[flaml.automl.logger: 07-27 07:12:39] {2394} INFO -  at 5.8s,\testimator xgboost's best error=0.0383,\tbest estimator xgboost's best error=0.0383\n",
            "[flaml.automl.logger: 07-27 07:12:39] {2221} INFO - iteration 22, current learner xgboost\n",
            "[flaml.automl.logger: 07-27 07:12:40] {2394} INFO -  at 7.1s,\testimator xgboost's best error=0.0383,\tbest estimator xgboost's best error=0.0383\n",
            "[flaml.automl.logger: 07-27 07:12:40] {2221} INFO - iteration 23, current learner xgboost\n",
            "[flaml.automl.logger: 07-27 07:12:45] {2394} INFO -  at 11.6s,\testimator xgboost's best error=0.0383,\tbest estimator xgboost's best error=0.0383\n",
            "[flaml.automl.logger: 07-27 07:12:45] {2221} INFO - iteration 24, current learner xgboost\n",
            "[flaml.automl.logger: 07-27 07:12:45] {2394} INFO -  at 12.4s,\testimator xgboost's best error=0.0383,\tbest estimator xgboost's best error=0.0383\n",
            "[flaml.automl.logger: 07-27 07:12:45] {2221} INFO - iteration 25, current learner xgboost\n",
            "[flaml.automl.logger: 07-27 07:12:46] {2394} INFO -  at 12.8s,\testimator xgboost's best error=0.0383,\tbest estimator xgboost's best error=0.0383\n",
            "[flaml.automl.logger: 07-27 07:12:46] {2221} INFO - iteration 26, current learner xgboost\n",
            "[flaml.automl.logger: 07-27 07:12:47] {2394} INFO -  at 14.0s,\testimator xgboost's best error=0.0383,\tbest estimator xgboost's best error=0.0383\n",
            "[flaml.automl.logger: 07-27 07:12:47] {2221} INFO - iteration 27, current learner xgboost\n",
            "[flaml.automl.logger: 07-27 07:12:48] {2394} INFO -  at 14.7s,\testimator xgboost's best error=0.0383,\tbest estimator xgboost's best error=0.0383\n",
            "[flaml.automl.logger: 07-27 07:12:48] {2221} INFO - iteration 28, current learner xgboost\n",
            "[flaml.automl.logger: 07-27 07:12:48] {2394} INFO -  at 15.3s,\testimator xgboost's best error=0.0383,\tbest estimator xgboost's best error=0.0383\n",
            "[flaml.automl.logger: 07-27 07:12:48] {2221} INFO - iteration 29, current learner xgboost\n",
            "[flaml.automl.logger: 07-27 07:12:49] {2394} INFO -  at 15.7s,\testimator xgboost's best error=0.0383,\tbest estimator xgboost's best error=0.0383\n",
            "[flaml.automl.logger: 07-27 07:12:49] {2221} INFO - iteration 30, current learner xgboost\n",
            "[flaml.automl.logger: 07-27 07:12:50] {2394} INFO -  at 17.3s,\testimator xgboost's best error=0.0383,\tbest estimator xgboost's best error=0.0383\n",
            "[flaml.automl.logger: 07-27 07:12:50] {2221} INFO - iteration 31, current learner xgboost\n",
            "[flaml.automl.logger: 07-27 07:12:51] {2394} INFO -  at 18.3s,\testimator xgboost's best error=0.0383,\tbest estimator xgboost's best error=0.0383\n",
            "[flaml.automl.logger: 07-27 07:12:51] {2221} INFO - iteration 32, current learner xgboost\n",
            "[flaml.automl.logger: 07-27 07:12:52] {2394} INFO -  at 19.0s,\testimator xgboost's best error=0.0383,\tbest estimator xgboost's best error=0.0383\n",
            "[flaml.automl.logger: 07-27 07:12:52] {2221} INFO - iteration 33, current learner xgboost\n",
            "[flaml.automl.logger: 07-27 07:12:53] {2394} INFO -  at 19.9s,\testimator xgboost's best error=0.0383,\tbest estimator xgboost's best error=0.0383\n",
            "[flaml.automl.logger: 07-27 07:12:53] {2221} INFO - iteration 34, current learner xgboost\n",
            "[flaml.automl.logger: 07-27 07:12:54] {2394} INFO -  at 20.5s,\testimator xgboost's best error=0.0334,\tbest estimator xgboost's best error=0.0334\n",
            "[flaml.automl.logger: 07-27 07:12:54] {2221} INFO - iteration 35, current learner xgboost\n",
            "[flaml.automl.logger: 07-27 07:12:56] {2394} INFO -  at 23.4s,\testimator xgboost's best error=0.0334,\tbest estimator xgboost's best error=0.0334\n",
            "[flaml.automl.logger: 07-27 07:12:56] {2221} INFO - iteration 36, current learner xgboost\n",
            "[flaml.automl.logger: 07-27 07:12:57] {2394} INFO -  at 23.8s,\testimator xgboost's best error=0.0334,\tbest estimator xgboost's best error=0.0334\n",
            "[flaml.automl.logger: 07-27 07:12:57] {2221} INFO - iteration 37, current learner xgboost\n",
            "[flaml.automl.logger: 07-27 07:12:58] {2394} INFO -  at 24.8s,\testimator xgboost's best error=0.0334,\tbest estimator xgboost's best error=0.0334\n",
            "[flaml.automl.logger: 07-27 07:12:58] {2221} INFO - iteration 38, current learner xgboost\n",
            "[flaml.automl.logger: 07-27 07:12:58] {2394} INFO -  at 25.3s,\testimator xgboost's best error=0.0334,\tbest estimator xgboost's best error=0.0334\n",
            "[flaml.automl.logger: 07-27 07:12:58] {2221} INFO - iteration 39, current learner xgboost\n",
            "[flaml.automl.logger: 07-27 07:13:00] {2394} INFO -  at 26.5s,\testimator xgboost's best error=0.0334,\tbest estimator xgboost's best error=0.0334\n",
            "[flaml.automl.logger: 07-27 07:13:00] {2221} INFO - iteration 40, current learner xgboost\n",
            "[flaml.automl.logger: 07-27 07:13:00] {2394} INFO -  at 26.9s,\testimator xgboost's best error=0.0334,\tbest estimator xgboost's best error=0.0334\n",
            "[flaml.automl.logger: 07-27 07:13:00] {2221} INFO - iteration 41, current learner xgboost\n",
            "[flaml.automl.logger: 07-27 07:13:00] {2394} INFO -  at 27.3s,\testimator xgboost's best error=0.0334,\tbest estimator xgboost's best error=0.0334\n",
            "[flaml.automl.logger: 07-27 07:13:00] {2221} INFO - iteration 42, current learner xgboost\n",
            "[flaml.automl.logger: 07-27 07:13:03] {2394} INFO -  at 30.3s,\testimator xgboost's best error=0.0334,\tbest estimator xgboost's best error=0.0334\n",
            "[flaml.automl.logger: 07-27 07:13:03] {2221} INFO - iteration 43, current learner xgboost\n",
            "[flaml.automl.logger: 07-27 07:13:04] {2394} INFO -  at 31.4s,\testimator xgboost's best error=0.0334,\tbest estimator xgboost's best error=0.0334\n",
            "[flaml.automl.logger: 07-27 07:13:04] {2221} INFO - iteration 44, current learner xgboost\n",
            "[flaml.automl.logger: 07-27 07:13:05] {2394} INFO -  at 31.8s,\testimator xgboost's best error=0.0334,\tbest estimator xgboost's best error=0.0334\n",
            "[flaml.automl.logger: 07-27 07:13:05] {2221} INFO - iteration 45, current learner xgboost\n",
            "[flaml.automl.logger: 07-27 07:13:06] {2394} INFO -  at 32.5s,\testimator xgboost's best error=0.0334,\tbest estimator xgboost's best error=0.0334\n",
            "[flaml.automl.logger: 07-27 07:13:06] {2221} INFO - iteration 46, current learner xgboost\n",
            "[flaml.automl.logger: 07-27 07:13:06] {2394} INFO -  at 33.1s,\testimator xgboost's best error=0.0334,\tbest estimator xgboost's best error=0.0334\n",
            "[flaml.automl.logger: 07-27 07:13:06] {2221} INFO - iteration 47, current learner xgboost\n",
            "[flaml.automl.logger: 07-27 07:13:09] {2394} INFO -  at 35.7s,\testimator xgboost's best error=0.0334,\tbest estimator xgboost's best error=0.0334\n",
            "[flaml.automl.logger: 07-27 07:13:09] {2221} INFO - iteration 48, current learner xgboost\n",
            "[flaml.automl.logger: 07-27 07:13:10] {2394} INFO -  at 36.5s,\testimator xgboost's best error=0.0334,\tbest estimator xgboost's best error=0.0334\n",
            "[flaml.automl.logger: 07-27 07:13:10] {2221} INFO - iteration 49, current learner xgboost\n",
            "[flaml.automl.logger: 07-27 07:13:10] {2394} INFO -  at 37.2s,\testimator xgboost's best error=0.0334,\tbest estimator xgboost's best error=0.0334\n",
            "[flaml.automl.logger: 07-27 07:13:10] {2221} INFO - iteration 50, current learner xgboost\n",
            "[flaml.automl.logger: 07-27 07:13:11] {2394} INFO -  at 37.9s,\testimator xgboost's best error=0.0334,\tbest estimator xgboost's best error=0.0334\n",
            "[flaml.automl.logger: 07-27 07:13:11] {2221} INFO - iteration 51, current learner xgboost\n",
            "[flaml.automl.logger: 07-27 07:13:12] {2394} INFO -  at 38.6s,\testimator xgboost's best error=0.0334,\tbest estimator xgboost's best error=0.0334\n",
            "[flaml.automl.logger: 07-27 07:13:12] {2221} INFO - iteration 52, current learner xgboost\n",
            "[flaml.automl.logger: 07-27 07:13:12] {2394} INFO -  at 39.2s,\testimator xgboost's best error=0.0334,\tbest estimator xgboost's best error=0.0334\n",
            "[flaml.automl.logger: 07-27 07:13:12] {2221} INFO - iteration 53, current learner xgboost\n",
            "[flaml.automl.logger: 07-27 07:13:13] {2394} INFO -  at 39.7s,\testimator xgboost's best error=0.0329,\tbest estimator xgboost's best error=0.0329\n",
            "[flaml.automl.logger: 07-27 07:13:13] {2221} INFO - iteration 54, current learner xgboost\n",
            "[flaml.automl.logger: 07-27 07:13:13] {2394} INFO -  at 40.3s,\testimator xgboost's best error=0.0329,\tbest estimator xgboost's best error=0.0329\n",
            "[flaml.automl.logger: 07-27 07:13:13] {2221} INFO - iteration 55, current learner xgboost\n",
            "[flaml.automl.logger: 07-27 07:13:14] {2394} INFO -  at 40.9s,\testimator xgboost's best error=0.0329,\tbest estimator xgboost's best error=0.0329\n",
            "[flaml.automl.logger: 07-27 07:13:14] {2221} INFO - iteration 56, current learner xgboost\n",
            "[flaml.automl.logger: 07-27 07:13:15] {2394} INFO -  at 41.5s,\testimator xgboost's best error=0.0329,\tbest estimator xgboost's best error=0.0329\n",
            "[flaml.automl.logger: 07-27 07:13:15] {2221} INFO - iteration 57, current learner xgboost\n",
            "[flaml.automl.logger: 07-27 07:13:16] {2394} INFO -  at 42.5s,\testimator xgboost's best error=0.0329,\tbest estimator xgboost's best error=0.0329\n",
            "[flaml.automl.logger: 07-27 07:13:16] {2221} INFO - iteration 58, current learner xgboost\n",
            "[flaml.automl.logger: 07-27 07:13:16] {2394} INFO -  at 42.9s,\testimator xgboost's best error=0.0329,\tbest estimator xgboost's best error=0.0329\n",
            "[flaml.automl.logger: 07-27 07:13:16] {2221} INFO - iteration 59, current learner xgboost\n",
            "[flaml.automl.logger: 07-27 07:13:16] {2394} INFO -  at 43.4s,\testimator xgboost's best error=0.0329,\tbest estimator xgboost's best error=0.0329\n",
            "[flaml.automl.logger: 07-27 07:13:16] {2221} INFO - iteration 60, current learner xgboost\n",
            "[flaml.automl.logger: 07-27 07:13:17] {2394} INFO -  at 44.1s,\testimator xgboost's best error=0.0329,\tbest estimator xgboost's best error=0.0329\n",
            "[flaml.automl.logger: 07-27 07:13:17] {2221} INFO - iteration 61, current learner xgboost\n",
            "[flaml.automl.logger: 07-27 07:13:18] {2394} INFO -  at 45.0s,\testimator xgboost's best error=0.0329,\tbest estimator xgboost's best error=0.0329\n",
            "[flaml.automl.logger: 07-27 07:13:18] {2221} INFO - iteration 62, current learner xgboost\n",
            "[flaml.automl.logger: 07-27 07:13:19] {2394} INFO -  at 45.5s,\testimator xgboost's best error=0.0329,\tbest estimator xgboost's best error=0.0329\n",
            "[flaml.automl.logger: 07-27 07:13:19] {2221} INFO - iteration 63, current learner xgboost\n",
            "[flaml.automl.logger: 07-27 07:13:21] {2394} INFO -  at 48.1s,\testimator xgboost's best error=0.0329,\tbest estimator xgboost's best error=0.0329\n",
            "[flaml.automl.logger: 07-27 07:13:21] {2221} INFO - iteration 64, current learner xgboost\n",
            "[flaml.automl.logger: 07-27 07:13:22] {2394} INFO -  at 48.8s,\testimator xgboost's best error=0.0329,\tbest estimator xgboost's best error=0.0329\n",
            "[flaml.automl.logger: 07-27 07:13:22] {2221} INFO - iteration 65, current learner xgboost\n",
            "[flaml.automl.logger: 07-27 07:13:22] {2394} INFO -  at 49.1s,\testimator xgboost's best error=0.0329,\tbest estimator xgboost's best error=0.0329\n",
            "[flaml.automl.logger: 07-27 07:13:22] {2221} INFO - iteration 66, current learner xgboost\n",
            "[flaml.automl.logger: 07-27 07:13:23] {2394} INFO -  at 50.4s,\testimator xgboost's best error=0.0329,\tbest estimator xgboost's best error=0.0329\n",
            "[flaml.automl.logger: 07-27 07:13:23] {2221} INFO - iteration 67, current learner xgboost\n",
            "[flaml.automl.logger: 07-27 07:13:24] {2394} INFO -  at 51.3s,\testimator xgboost's best error=0.0329,\tbest estimator xgboost's best error=0.0329\n",
            "[flaml.automl.logger: 07-27 07:13:24] {2221} INFO - iteration 68, current learner xgboost\n",
            "[flaml.automl.logger: 07-27 07:13:25] {2394} INFO -  at 51.8s,\testimator xgboost's best error=0.0329,\tbest estimator xgboost's best error=0.0329\n",
            "[flaml.automl.logger: 07-27 07:13:25] {2221} INFO - iteration 69, current learner xgboost\n",
            "[flaml.automl.logger: 07-27 07:13:26] {2394} INFO -  at 52.7s,\testimator xgboost's best error=0.0329,\tbest estimator xgboost's best error=0.0329\n",
            "[flaml.automl.logger: 07-27 07:13:26] {2221} INFO - iteration 70, current learner xgboost\n",
            "[flaml.automl.logger: 07-27 07:13:26] {2394} INFO -  at 53.1s,\testimator xgboost's best error=0.0329,\tbest estimator xgboost's best error=0.0329\n",
            "[flaml.automl.logger: 07-27 07:13:26] {2221} INFO - iteration 71, current learner xgboost\n",
            "[flaml.automl.logger: 07-27 07:13:27] {2394} INFO -  at 53.8s,\testimator xgboost's best error=0.0329,\tbest estimator xgboost's best error=0.0329\n",
            "[flaml.automl.logger: 07-27 07:13:27] {2221} INFO - iteration 72, current learner xgboost\n",
            "[flaml.automl.logger: 07-27 07:13:27] {2394} INFO -  at 54.3s,\testimator xgboost's best error=0.0329,\tbest estimator xgboost's best error=0.0329\n",
            "[flaml.automl.logger: 07-27 07:13:27] {2221} INFO - iteration 73, current learner xgboost\n",
            "[flaml.automl.logger: 07-27 07:13:28] {2394} INFO -  at 54.8s,\testimator xgboost's best error=0.0329,\tbest estimator xgboost's best error=0.0329\n",
            "[flaml.automl.logger: 07-27 07:13:28] {2221} INFO - iteration 74, current learner xgboost\n",
            "[flaml.automl.logger: 07-27 07:13:29] {2394} INFO -  at 55.4s,\testimator xgboost's best error=0.0329,\tbest estimator xgboost's best error=0.0329\n",
            "[flaml.automl.logger: 07-27 07:13:29] {2221} INFO - iteration 75, current learner xgboost\n",
            "[flaml.automl.logger: 07-27 07:13:29] {2394} INFO -  at 56.2s,\testimator xgboost's best error=0.0329,\tbest estimator xgboost's best error=0.0329\n",
            "[flaml.automl.logger: 07-27 07:13:29] {2221} INFO - iteration 76, current learner xgboost\n",
            "[flaml.automl.logger: 07-27 07:13:30] {2394} INFO -  at 56.6s,\testimator xgboost's best error=0.0329,\tbest estimator xgboost's best error=0.0329\n",
            "[flaml.automl.logger: 07-27 07:13:30] {2221} INFO - iteration 77, current learner xgboost\n",
            "[flaml.automl.logger: 07-27 07:13:30] {2394} INFO -  at 57.3s,\testimator xgboost's best error=0.0329,\tbest estimator xgboost's best error=0.0329\n",
            "[flaml.automl.logger: 07-27 07:13:30] {2221} INFO - iteration 78, current learner xgboost\n",
            "[flaml.automl.logger: 07-27 07:13:32] {2394} INFO -  at 59.3s,\testimator xgboost's best error=0.0329,\tbest estimator xgboost's best error=0.0329\n",
            "[flaml.automl.logger: 07-27 07:13:32] {2221} INFO - iteration 79, current learner xgboost\n",
            "[flaml.automl.logger: 07-27 07:13:33] {2394} INFO -  at 60.0s,\testimator xgboost's best error=0.0329,\tbest estimator xgboost's best error=0.0329\n",
            "[flaml.automl.logger: 07-27 07:13:33] {2630} INFO - retrain xgboost for 0.1s\n",
            "[flaml.automl.logger: 07-27 07:13:33] {2633} INFO - retrained model: XGBClassifier(base_score=None, booster=None, callbacks=[],\n",
            "              colsample_bylevel=0.1853522495956892, colsample_bynode=None,\n",
            "              colsample_bytree=0.9140382943863947, early_stopping_rounds=None,\n",
            "              enable_categorical=False, eval_metric=None, feature_types=None,\n",
            "              gamma=None, gpu_id=None, grow_policy='lossguide',\n",
            "              importance_type=None, interaction_constraints=None,\n",
            "              learning_rate=0.4062723134434622, max_bin=None,\n",
            "              max_cat_threshold=None, max_cat_to_onehot=None,\n",
            "              max_delta_step=None, max_depth=0, max_leaves=12,\n",
            "              min_child_weight=0.6026317601413242, missing=nan,\n",
            "              monotone_constraints=None, n_estimators=144, n_jobs=-1,\n",
            "              num_parallel_tree=None, predictor=None, random_state=None, ...)\n",
            "[flaml.automl.logger: 07-27 07:13:33] {1941} INFO - fit succeeded\n",
            "[flaml.automl.logger: 07-27 07:13:33] {1942} INFO - Time taken to find the best model: 39.72921800613403\n",
            "Best estimator: xgboost\n",
            "Best hyperparmeter config: {'n_estimators': 144, 'max_leaves': 12, 'min_child_weight': 0.6026317601413242, 'learning_rate': 0.4062723134434622, 'subsample': 0.6761636799305288, 'colsample_bylevel': 0.1853522495956892, 'colsample_bytree': 0.9140382943863947, 'reg_alpha': 0.011986752536358659, 'reg_lambda': 0.0010304727933015778}\n",
            "Training duration of best run: 0.1211 s\n"
          ]
        }
      ]
    },
    {
      "cell_type": "code",
      "source": [
        "auto_model.model.estimator"
      ],
      "metadata": {
        "colab": {
          "base_uri": "https://localhost:8080/",
          "height": 252
        },
        "id": "aX7figMWI-N0",
        "outputId": "f22e62fd-b724-479f-98c8-138f0d074425"
      },
      "execution_count": null,
      "outputs": [
        {
          "output_type": "execute_result",
          "data": {
            "text/plain": [
              "XGBClassifier(base_score=None, booster=None, callbacks=[],\n",
              "              colsample_bylevel=0.1853522495956892, colsample_bynode=None,\n",
              "              colsample_bytree=0.9140382943863947, early_stopping_rounds=None,\n",
              "              enable_categorical=False, eval_metric=None, feature_types=None,\n",
              "              gamma=None, gpu_id=None, grow_policy='lossguide',\n",
              "              importance_type=None, interaction_constraints=None,\n",
              "              learning_rate=0.4062723134434622, max_bin=None,\n",
              "              max_cat_threshold=None, max_cat_to_onehot=None,\n",
              "              max_delta_step=None, max_depth=0, max_leaves=12,\n",
              "              min_child_weight=0.6026317601413242, missing=nan,\n",
              "              monotone_constraints=None, n_estimators=144, n_jobs=-1,\n",
              "              num_parallel_tree=None, predictor=None, random_state=None, ...)"
            ],
            "text/html": [
              "<style>#sk-container-id-1 {color: black;background-color: white;}#sk-container-id-1 pre{padding: 0;}#sk-container-id-1 div.sk-toggleable {background-color: white;}#sk-container-id-1 label.sk-toggleable__label {cursor: pointer;display: block;width: 100%;margin-bottom: 0;padding: 0.3em;box-sizing: border-box;text-align: center;}#sk-container-id-1 label.sk-toggleable__label-arrow:before {content: \"▸\";float: left;margin-right: 0.25em;color: #696969;}#sk-container-id-1 label.sk-toggleable__label-arrow:hover:before {color: black;}#sk-container-id-1 div.sk-estimator:hover label.sk-toggleable__label-arrow:before {color: black;}#sk-container-id-1 div.sk-toggleable__content {max-height: 0;max-width: 0;overflow: hidden;text-align: left;background-color: #f0f8ff;}#sk-container-id-1 div.sk-toggleable__content pre {margin: 0.2em;color: black;border-radius: 0.25em;background-color: #f0f8ff;}#sk-container-id-1 input.sk-toggleable__control:checked~div.sk-toggleable__content {max-height: 200px;max-width: 100%;overflow: auto;}#sk-container-id-1 input.sk-toggleable__control:checked~label.sk-toggleable__label-arrow:before {content: \"▾\";}#sk-container-id-1 div.sk-estimator input.sk-toggleable__control:checked~label.sk-toggleable__label {background-color: #d4ebff;}#sk-container-id-1 div.sk-label input.sk-toggleable__control:checked~label.sk-toggleable__label {background-color: #d4ebff;}#sk-container-id-1 input.sk-hidden--visually {border: 0;clip: rect(1px 1px 1px 1px);clip: rect(1px, 1px, 1px, 1px);height: 1px;margin: -1px;overflow: hidden;padding: 0;position: absolute;width: 1px;}#sk-container-id-1 div.sk-estimator {font-family: monospace;background-color: #f0f8ff;border: 1px dotted black;border-radius: 0.25em;box-sizing: border-box;margin-bottom: 0.5em;}#sk-container-id-1 div.sk-estimator:hover {background-color: #d4ebff;}#sk-container-id-1 div.sk-parallel-item::after {content: \"\";width: 100%;border-bottom: 1px solid gray;flex-grow: 1;}#sk-container-id-1 div.sk-label:hover label.sk-toggleable__label {background-color: #d4ebff;}#sk-container-id-1 div.sk-serial::before {content: \"\";position: absolute;border-left: 1px solid gray;box-sizing: border-box;top: 0;bottom: 0;left: 50%;z-index: 0;}#sk-container-id-1 div.sk-serial {display: flex;flex-direction: column;align-items: center;background-color: white;padding-right: 0.2em;padding-left: 0.2em;position: relative;}#sk-container-id-1 div.sk-item {position: relative;z-index: 1;}#sk-container-id-1 div.sk-parallel {display: flex;align-items: stretch;justify-content: center;background-color: white;position: relative;}#sk-container-id-1 div.sk-item::before, #sk-container-id-1 div.sk-parallel-item::before {content: \"\";position: absolute;border-left: 1px solid gray;box-sizing: border-box;top: 0;bottom: 0;left: 50%;z-index: -1;}#sk-container-id-1 div.sk-parallel-item {display: flex;flex-direction: column;z-index: 1;position: relative;background-color: white;}#sk-container-id-1 div.sk-parallel-item:first-child::after {align-self: flex-end;width: 50%;}#sk-container-id-1 div.sk-parallel-item:last-child::after {align-self: flex-start;width: 50%;}#sk-container-id-1 div.sk-parallel-item:only-child::after {width: 0;}#sk-container-id-1 div.sk-dashed-wrapped {border: 1px dashed gray;margin: 0 0.4em 0.5em 0.4em;box-sizing: border-box;padding-bottom: 0.4em;background-color: white;}#sk-container-id-1 div.sk-label label {font-family: monospace;font-weight: bold;display: inline-block;line-height: 1.2em;}#sk-container-id-1 div.sk-label-container {text-align: center;}#sk-container-id-1 div.sk-container {/* jupyter's `normalize.less` sets `[hidden] { display: none; }` but bootstrap.min.css set `[hidden] { display: none !important; }` so we also need the `!important` here to be able to override the default hidden behavior on the sphinx rendered scikit-learn.org. See: https://github.com/scikit-learn/scikit-learn/issues/21755 */display: inline-block !important;position: relative;}#sk-container-id-1 div.sk-text-repr-fallback {display: none;}</style><div id=\"sk-container-id-1\" class=\"sk-top-container\"><div class=\"sk-text-repr-fallback\"><pre>XGBClassifier(base_score=None, booster=None, callbacks=[],\n",
              "              colsample_bylevel=0.1853522495956892, colsample_bynode=None,\n",
              "              colsample_bytree=0.9140382943863947, early_stopping_rounds=None,\n",
              "              enable_categorical=False, eval_metric=None, feature_types=None,\n",
              "              gamma=None, gpu_id=None, grow_policy=&#x27;lossguide&#x27;,\n",
              "              importance_type=None, interaction_constraints=None,\n",
              "              learning_rate=0.4062723134434622, max_bin=None,\n",
              "              max_cat_threshold=None, max_cat_to_onehot=None,\n",
              "              max_delta_step=None, max_depth=0, max_leaves=12,\n",
              "              min_child_weight=0.6026317601413242, missing=nan,\n",
              "              monotone_constraints=None, n_estimators=144, n_jobs=-1,\n",
              "              num_parallel_tree=None, predictor=None, random_state=None, ...)</pre><b>In a Jupyter environment, please rerun this cell to show the HTML representation or trust the notebook. <br />On GitHub, the HTML representation is unable to render, please try loading this page with nbviewer.org.</b></div><div class=\"sk-container\" hidden><div class=\"sk-item\"><div class=\"sk-estimator sk-toggleable\"><input class=\"sk-toggleable__control sk-hidden--visually\" id=\"sk-estimator-id-1\" type=\"checkbox\" checked><label for=\"sk-estimator-id-1\" class=\"sk-toggleable__label sk-toggleable__label-arrow\">XGBClassifier</label><div class=\"sk-toggleable__content\"><pre>XGBClassifier(base_score=None, booster=None, callbacks=[],\n",
              "              colsample_bylevel=0.1853522495956892, colsample_bynode=None,\n",
              "              colsample_bytree=0.9140382943863947, early_stopping_rounds=None,\n",
              "              enable_categorical=False, eval_metric=None, feature_types=None,\n",
              "              gamma=None, gpu_id=None, grow_policy=&#x27;lossguide&#x27;,\n",
              "              importance_type=None, interaction_constraints=None,\n",
              "              learning_rate=0.4062723134434622, max_bin=None,\n",
              "              max_cat_threshold=None, max_cat_to_onehot=None,\n",
              "              max_delta_step=None, max_depth=0, max_leaves=12,\n",
              "              min_child_weight=0.6026317601413242, missing=nan,\n",
              "              monotone_constraints=None, n_estimators=144, n_jobs=-1,\n",
              "              num_parallel_tree=None, predictor=None, random_state=None, ...)</pre></div></div></div></div></div>"
            ]
          },
          "metadata": {},
          "execution_count": 44
        }
      ]
    },
    {
      "cell_type": "markdown",
      "source": [
        "## Catboost"
      ],
      "metadata": {
        "id": "fo5bp89wYEDK"
      }
    },
    {
      "cell_type": "code",
      "source": [
        "auto_model = AutoML()\n",
        "settings = {\n",
        "    \"metric\": 'log_loss', # primary metrics for regression can be chosen from: ['mae','mse','r2']\n",
        "    \"estimator_list\": ['catboost'], # list of ML learners; we tune xgboost in this example\n",
        "    \"task\": 'classification', # task type\n",
        "    \"log_file_name\": 'carbon_monoxide_predictor.log',\n",
        "    \"time_budget\": 60# flaml log file\n",
        "}\n",
        "auto_model.fit(X_train=X_train, y_train=y_train, **settings) # X_train, y_train\n",
        "\n",
        "print('Best estimator:', auto_model.best_estimator)\n",
        "print('Best hyperparmeter config:', auto_model.best_config)\n",
        "print('Training duration of best run: {0:.4g} s'.format(auto_model.best_config_train_time))"
      ],
      "metadata": {
        "colab": {
          "base_uri": "https://localhost:8080/"
        },
        "id": "d8Z7OGO4oo0n",
        "outputId": "5fa52f59-830c-4001-ff84-879052fc870e"
      },
      "execution_count": null,
      "outputs": [
        {
          "output_type": "stream",
          "name": "stdout",
          "text": [
            "[flaml.automl.logger: 07-27 07:14:10] {1693} INFO - task = classification\n",
            "[flaml.automl.logger: 07-27 07:14:10] {1700} INFO - Data split method: stratified\n",
            "[flaml.automl.logger: 07-27 07:14:10] {1703} INFO - Evaluation method: cv\n",
            "[flaml.automl.logger: 07-27 07:14:10] {1801} INFO - Minimizing error metric: log_loss\n",
            "[flaml.automl.logger: 07-27 07:14:10] {1911} INFO - List of ML learners in AutoML Run: ['catboost']\n",
            "[flaml.automl.logger: 07-27 07:14:10] {2221} INFO - iteration 0, current learner catboost\n",
            "[flaml.automl.logger: 07-27 07:14:15] {2347} INFO - Estimated sufficient time budget=51236s. Estimated necessary time budget=51s.\n",
            "[flaml.automl.logger: 07-27 07:14:15] {2394} INFO -  at 5.1s,\testimator catboost's best error=0.0575,\tbest estimator catboost's best error=0.0575\n",
            "[flaml.automl.logger: 07-27 07:14:15] {2221} INFO - iteration 1, current learner catboost\n",
            "[flaml.automl.logger: 07-27 07:14:25] {2394} INFO -  at 14.8s,\testimator catboost's best error=0.0567,\tbest estimator catboost's best error=0.0567\n",
            "[flaml.automl.logger: 07-27 07:14:25] {2221} INFO - iteration 2, current learner catboost\n",
            "[flaml.automl.logger: 07-27 07:14:31] {2394} INFO -  at 21.1s,\testimator catboost's best error=0.0567,\tbest estimator catboost's best error=0.0567\n",
            "[flaml.automl.logger: 07-27 07:14:31] {2221} INFO - iteration 3, current learner catboost\n",
            "[flaml.automl.logger: 07-27 07:14:43] {2394} INFO -  at 33.3s,\testimator catboost's best error=0.0567,\tbest estimator catboost's best error=0.0567\n",
            "[flaml.automl.logger: 07-27 07:14:43] {2221} INFO - iteration 4, current learner catboost\n",
            "[flaml.automl.logger: 07-27 07:14:50] {2394} INFO -  at 39.9s,\testimator catboost's best error=0.0557,\tbest estimator catboost's best error=0.0557\n",
            "[flaml.automl.logger: 07-27 07:14:50] {2221} INFO - iteration 5, current learner catboost\n",
            "[flaml.automl.logger: 07-27 07:14:59] {2394} INFO -  at 48.7s,\testimator catboost's best error=0.0557,\tbest estimator catboost's best error=0.0557\n",
            "[flaml.automl.logger: 07-27 07:14:59] {2221} INFO - iteration 6, current learner catboost\n",
            "[flaml.automl.logger: 07-27 07:15:03] {2394} INFO -  at 52.8s,\testimator catboost's best error=0.0557,\tbest estimator catboost's best error=0.0557\n",
            "[flaml.automl.logger: 07-27 07:15:03] {2221} INFO - iteration 7, current learner catboost\n",
            "[flaml.automl.logger: 07-27 07:15:10] {2394} INFO -  at 60.0s,\testimator catboost's best error=0.0557,\tbest estimator catboost's best error=0.0557\n",
            "[flaml.automl.logger: 07-27 07:15:12] {2630} INFO - retrain catboost for 1.7s\n",
            "[flaml.automl.logger: 07-27 07:15:12] {2633} INFO - retrained model: <catboost.core.CatBoostClassifier object at 0x7e84399217b0>\n",
            "[flaml.automl.logger: 07-27 07:15:12] {1941} INFO - fit succeeded\n",
            "[flaml.automl.logger: 07-27 07:15:12] {1942} INFO - Time taken to find the best model: 39.918729305267334\n",
            "Best estimator: catboost\n",
            "Best hyperparmeter config: {'early_stopping_rounds': 10, 'learning_rate': 0.09314680954183546, 'n_estimators': 92}\n",
            "Training duration of best run: 1.692 s\n"
          ]
        }
      ]
    },
    {
      "cell_type": "code",
      "source": [
        "auto_model.model.estimator"
      ],
      "metadata": {
        "colab": {
          "base_uri": "https://localhost:8080/"
        },
        "id": "utbTDh13IzC2",
        "outputId": "ec0ff034-a6fb-46c9-a594-649f68c86dc7"
      },
      "execution_count": null,
      "outputs": [
        {
          "output_type": "execute_result",
          "data": {
            "text/plain": [
              "<catboost.core.CatBoostClassifier at 0x7e84399217b0>"
            ]
          },
          "metadata": {},
          "execution_count": 46
        }
      ]
    },
    {
      "cell_type": "markdown",
      "source": [
        "## RandomForest"
      ],
      "metadata": {
        "id": "y7-Ok3vCYACW"
      }
    },
    {
      "cell_type": "code",
      "source": [
        "auto_model = AutoML()\n",
        "settings = {\n",
        "    \"metric\": 'log_loss', # primary metrics for regression can be chosen from: ['mae','mse','r2']\n",
        "    \"estimator_list\": ['rf'], # list of ML learners; we tune xgboost in this example\n",
        "    \"task\": 'classification', # task type\n",
        "    \"log_file_name\": 'carbon_monoxide_predictor.log',\n",
        "    \"time_budget\": 60# flaml log file\n",
        "}\n",
        "auto_model.fit(X_train=X_train, y_train=y_train, **settings) # X_train, y_train\n",
        "\n",
        "print('Best estimator:', auto_model.best_estimator)\n",
        "print('Best hyperparmeter config:', auto_model.best_config)\n",
        "print('Training duration of best run: {0:.4g} s'.format(auto_model.best_config_train_time))"
      ],
      "metadata": {
        "colab": {
          "base_uri": "https://localhost:8080/"
        },
        "id": "AqlQU7pNoou1",
        "outputId": "38244c31-5d29-4c8d-cc93-ca2dfba45ab4"
      },
      "execution_count": null,
      "outputs": [
        {
          "output_type": "stream",
          "name": "stdout",
          "text": [
            "[flaml.automl.logger: 07-27 07:09:11] {1693} INFO - task = classification\n",
            "[flaml.automl.logger: 07-27 07:09:11] {1700} INFO - Data split method: stratified\n",
            "[flaml.automl.logger: 07-27 07:09:11] {1703} INFO - Evaluation method: cv\n",
            "[flaml.automl.logger: 07-27 07:09:11] {1801} INFO - Minimizing error metric: log_loss\n",
            "[flaml.automl.logger: 07-27 07:09:11] {1911} INFO - List of ML learners in AutoML Run: ['rf']\n",
            "[flaml.automl.logger: 07-27 07:09:11] {2221} INFO - iteration 0, current learner rf\n",
            "[flaml.automl.logger: 07-27 07:09:12] {2347} INFO - Estimated sufficient time budget=2408s. Estimated necessary time budget=2s.\n",
            "[flaml.automl.logger: 07-27 07:09:12] {2394} INFO -  at 0.3s,\testimator rf's best error=0.3387,\tbest estimator rf's best error=0.3387\n",
            "[flaml.automl.logger: 07-27 07:09:12] {2221} INFO - iteration 1, current learner rf\n",
            "[flaml.automl.logger: 07-27 07:09:12] {2394} INFO -  at 0.5s,\testimator rf's best error=0.2755,\tbest estimator rf's best error=0.2755\n",
            "[flaml.automl.logger: 07-27 07:09:12] {2221} INFO - iteration 2, current learner rf\n",
            "[flaml.automl.logger: 07-27 07:09:12] {2394} INFO -  at 0.7s,\testimator rf's best error=0.2755,\tbest estimator rf's best error=0.2755\n",
            "[flaml.automl.logger: 07-27 07:09:12] {2221} INFO - iteration 3, current learner rf\n",
            "[flaml.automl.logger: 07-27 07:09:12] {2394} INFO -  at 1.0s,\testimator rf's best error=0.2755,\tbest estimator rf's best error=0.2755\n",
            "[flaml.automl.logger: 07-27 07:09:12] {2221} INFO - iteration 4, current learner rf\n",
            "[flaml.automl.logger: 07-27 07:09:12] {2394} INFO -  at 1.2s,\testimator rf's best error=0.2439,\tbest estimator rf's best error=0.2439\n",
            "[flaml.automl.logger: 07-27 07:09:12] {2221} INFO - iteration 5, current learner rf\n",
            "[flaml.automl.logger: 07-27 07:09:13] {2394} INFO -  at 1.5s,\testimator rf's best error=0.2439,\tbest estimator rf's best error=0.2439\n",
            "[flaml.automl.logger: 07-27 07:09:13] {2221} INFO - iteration 6, current learner rf\n",
            "[flaml.automl.logger: 07-27 07:09:13] {2394} INFO -  at 1.8s,\testimator rf's best error=0.2153,\tbest estimator rf's best error=0.2153\n",
            "[flaml.automl.logger: 07-27 07:09:13] {2221} INFO - iteration 7, current learner rf\n",
            "[flaml.automl.logger: 07-27 07:09:13] {2394} INFO -  at 2.2s,\testimator rf's best error=0.1626,\tbest estimator rf's best error=0.1626\n",
            "[flaml.automl.logger: 07-27 07:09:13] {2221} INFO - iteration 8, current learner rf\n",
            "[flaml.automl.logger: 07-27 07:09:14] {2394} INFO -  at 2.4s,\testimator rf's best error=0.1626,\tbest estimator rf's best error=0.1626\n",
            "[flaml.automl.logger: 07-27 07:09:14] {2221} INFO - iteration 9, current learner rf\n",
            "[flaml.automl.logger: 07-27 07:09:14] {2394} INFO -  at 2.8s,\testimator rf's best error=0.1626,\tbest estimator rf's best error=0.1626\n",
            "[flaml.automl.logger: 07-27 07:09:14] {2221} INFO - iteration 10, current learner rf\n",
            "[flaml.automl.logger: 07-27 07:09:14] {2394} INFO -  at 3.2s,\testimator rf's best error=0.1086,\tbest estimator rf's best error=0.1086\n",
            "[flaml.automl.logger: 07-27 07:09:14] {2221} INFO - iteration 11, current learner rf\n",
            "[flaml.automl.logger: 07-27 07:09:15] {2394} INFO -  at 3.5s,\testimator rf's best error=0.1086,\tbest estimator rf's best error=0.1086\n",
            "[flaml.automl.logger: 07-27 07:09:15] {2221} INFO - iteration 12, current learner rf\n",
            "[flaml.automl.logger: 07-27 07:09:15] {2394} INFO -  at 4.2s,\testimator rf's best error=0.0992,\tbest estimator rf's best error=0.0992\n",
            "[flaml.automl.logger: 07-27 07:09:15] {2221} INFO - iteration 13, current learner rf\n",
            "[flaml.automl.logger: 07-27 07:09:16] {2394} INFO -  at 4.6s,\testimator rf's best error=0.0992,\tbest estimator rf's best error=0.0992\n",
            "[flaml.automl.logger: 07-27 07:09:16] {2221} INFO - iteration 14, current learner rf\n",
            "[flaml.automl.logger: 07-27 07:09:17] {2394} INFO -  at 5.8s,\testimator rf's best error=0.0992,\tbest estimator rf's best error=0.0992\n",
            "[flaml.automl.logger: 07-27 07:09:17] {2221} INFO - iteration 15, current learner rf\n",
            "[flaml.automl.logger: 07-27 07:09:18] {2394} INFO -  at 6.4s,\testimator rf's best error=0.0992,\tbest estimator rf's best error=0.0992\n",
            "[flaml.automl.logger: 07-27 07:09:18] {2221} INFO - iteration 16, current learner rf\n",
            "[flaml.automl.logger: 07-27 07:09:18] {2394} INFO -  at 7.0s,\testimator rf's best error=0.0992,\tbest estimator rf's best error=0.0992\n",
            "[flaml.automl.logger: 07-27 07:09:18] {2221} INFO - iteration 17, current learner rf\n",
            "[flaml.automl.logger: 07-27 07:09:19] {2394} INFO -  at 7.4s,\testimator rf's best error=0.0992,\tbest estimator rf's best error=0.0992\n",
            "[flaml.automl.logger: 07-27 07:09:19] {2221} INFO - iteration 18, current learner rf\n",
            "[flaml.automl.logger: 07-27 07:09:20] {2394} INFO -  at 9.1s,\testimator rf's best error=0.0945,\tbest estimator rf's best error=0.0945\n",
            "[flaml.automl.logger: 07-27 07:09:20] {2221} INFO - iteration 19, current learner rf\n",
            "[flaml.automl.logger: 07-27 07:09:24] {2394} INFO -  at 12.3s,\testimator rf's best error=0.0945,\tbest estimator rf's best error=0.0945\n",
            "[flaml.automl.logger: 07-27 07:09:24] {2221} INFO - iteration 20, current learner rf\n",
            "[flaml.automl.logger: 07-27 07:09:25] {2394} INFO -  at 13.3s,\testimator rf's best error=0.0945,\tbest estimator rf's best error=0.0945\n",
            "[flaml.automl.logger: 07-27 07:09:25] {2221} INFO - iteration 21, current learner rf\n",
            "[flaml.automl.logger: 07-27 07:09:26] {2394} INFO -  at 14.9s,\testimator rf's best error=0.0945,\tbest estimator rf's best error=0.0945\n",
            "[flaml.automl.logger: 07-27 07:09:26] {2221} INFO - iteration 22, current learner rf\n",
            "[flaml.automl.logger: 07-27 07:09:27] {2394} INFO -  at 16.0s,\testimator rf's best error=0.0898,\tbest estimator rf's best error=0.0898\n",
            "[flaml.automl.logger: 07-27 07:09:27] {2221} INFO - iteration 23, current learner rf\n",
            "[flaml.automl.logger: 07-27 07:09:29] {2394} INFO -  at 18.0s,\testimator rf's best error=0.0898,\tbest estimator rf's best error=0.0898\n",
            "[flaml.automl.logger: 07-27 07:09:29] {2221} INFO - iteration 24, current learner rf\n",
            "[flaml.automl.logger: 07-27 07:09:30] {2394} INFO -  at 18.7s,\testimator rf's best error=0.0898,\tbest estimator rf's best error=0.0898\n",
            "[flaml.automl.logger: 07-27 07:09:30] {2221} INFO - iteration 25, current learner rf\n",
            "[flaml.automl.logger: 07-27 07:09:31] {2394} INFO -  at 19.9s,\testimator rf's best error=0.0898,\tbest estimator rf's best error=0.0898\n",
            "[flaml.automl.logger: 07-27 07:09:31] {2221} INFO - iteration 26, current learner rf\n",
            "[flaml.automl.logger: 07-27 07:09:32] {2394} INFO -  at 21.0s,\testimator rf's best error=0.0898,\tbest estimator rf's best error=0.0898\n",
            "[flaml.automl.logger: 07-27 07:09:32] {2221} INFO - iteration 27, current learner rf\n",
            "[flaml.automl.logger: 07-27 07:09:35] {2394} INFO -  at 23.7s,\testimator rf's best error=0.0898,\tbest estimator rf's best error=0.0898\n",
            "[flaml.automl.logger: 07-27 07:09:35] {2221} INFO - iteration 28, current learner rf\n",
            "[flaml.automl.logger: 07-27 07:09:36] {2394} INFO -  at 25.0s,\testimator rf's best error=0.0898,\tbest estimator rf's best error=0.0898\n",
            "[flaml.automl.logger: 07-27 07:09:36] {2221} INFO - iteration 29, current learner rf\n",
            "[flaml.automl.logger: 07-27 07:09:37] {2394} INFO -  at 26.2s,\testimator rf's best error=0.0881,\tbest estimator rf's best error=0.0881\n",
            "[flaml.automl.logger: 07-27 07:09:37] {2221} INFO - iteration 30, current learner rf\n",
            "[flaml.automl.logger: 07-27 07:09:39] {2394} INFO -  at 27.4s,\testimator rf's best error=0.0881,\tbest estimator rf's best error=0.0881\n",
            "[flaml.automl.logger: 07-27 07:09:39] {2221} INFO - iteration 31, current learner rf\n",
            "[flaml.automl.logger: 07-27 07:09:41] {2394} INFO -  at 29.9s,\testimator rf's best error=0.0881,\tbest estimator rf's best error=0.0881\n",
            "[flaml.automl.logger: 07-27 07:09:41] {2221} INFO - iteration 32, current learner rf\n",
            "[flaml.automl.logger: 07-27 07:09:42] {2394} INFO -  at 30.6s,\testimator rf's best error=0.0881,\tbest estimator rf's best error=0.0881\n",
            "[flaml.automl.logger: 07-27 07:09:42] {2221} INFO - iteration 33, current learner rf\n",
            "[flaml.automl.logger: 07-27 07:09:43] {2394} INFO -  at 31.9s,\testimator rf's best error=0.0879,\tbest estimator rf's best error=0.0879\n",
            "[flaml.automl.logger: 07-27 07:09:43] {2221} INFO - iteration 34, current learner rf\n",
            "[flaml.automl.logger: 07-27 07:09:45] {2394} INFO -  at 33.3s,\testimator rf's best error=0.0879,\tbest estimator rf's best error=0.0879\n",
            "[flaml.automl.logger: 07-27 07:09:45] {2221} INFO - iteration 35, current learner rf\n",
            "[flaml.automl.logger: 07-27 07:09:50] {2394} INFO -  at 38.4s,\testimator rf's best error=0.0879,\tbest estimator rf's best error=0.0879\n",
            "[flaml.automl.logger: 07-27 07:09:50] {2221} INFO - iteration 36, current learner rf\n",
            "[flaml.automl.logger: 07-27 07:09:50] {2394} INFO -  at 38.9s,\testimator rf's best error=0.0879,\tbest estimator rf's best error=0.0879\n",
            "[flaml.automl.logger: 07-27 07:09:50] {2221} INFO - iteration 37, current learner rf\n",
            "[flaml.automl.logger: 07-27 07:09:51] {2394} INFO -  at 39.7s,\testimator rf's best error=0.0879,\tbest estimator rf's best error=0.0879\n",
            "[flaml.automl.logger: 07-27 07:09:51] {2221} INFO - iteration 38, current learner rf\n",
            "[flaml.automl.logger: 07-27 07:09:53] {2394} INFO -  at 41.8s,\testimator rf's best error=0.0879,\tbest estimator rf's best error=0.0879\n",
            "[flaml.automl.logger: 07-27 07:09:53] {2221} INFO - iteration 39, current learner rf\n",
            "[flaml.automl.logger: 07-27 07:09:56] {2394} INFO -  at 44.9s,\testimator rf's best error=0.0841,\tbest estimator rf's best error=0.0841\n",
            "[flaml.automl.logger: 07-27 07:09:56] {2221} INFO - iteration 40, current learner rf\n",
            "[flaml.automl.logger: 07-27 07:09:57] {2394} INFO -  at 46.1s,\testimator rf's best error=0.0841,\tbest estimator rf's best error=0.0841\n",
            "[flaml.automl.logger: 07-27 07:09:57] {2221} INFO - iteration 41, current learner rf\n",
            "[flaml.automl.logger: 07-27 07:10:02] {2394} INFO -  at 51.0s,\testimator rf's best error=0.0841,\tbest estimator rf's best error=0.0841\n",
            "[flaml.automl.logger: 07-27 07:10:02] {2221} INFO - iteration 42, current learner rf\n",
            "[flaml.automl.logger: 07-27 07:10:05] {2394} INFO -  at 54.0s,\testimator rf's best error=0.0841,\tbest estimator rf's best error=0.0841\n",
            "[flaml.automl.logger: 07-27 07:10:05] {2221} INFO - iteration 43, current learner rf\n",
            "[flaml.automl.logger: 07-27 07:10:11] {2394} INFO -  at 60.2s,\testimator rf's best error=0.0829,\tbest estimator rf's best error=0.0829\n",
            "[flaml.automl.logger: 07-27 07:10:13] {2630} INFO - retrain rf for 2.0s\n",
            "[flaml.automl.logger: 07-27 07:10:13] {2633} INFO - retrained model: RandomForestClassifier(criterion='entropy', max_features=0.7720255259265024,\n",
            "                       max_leaf_nodes=114, n_estimators=59, n_jobs=-1,\n",
            "                       random_state=12032022)\n",
            "[flaml.automl.logger: 07-27 07:10:13] {1941} INFO - fit succeeded\n",
            "[flaml.automl.logger: 07-27 07:10:13] {1942} INFO - Time taken to find the best model: 60.18159890174866\n",
            "Best estimator: rf\n",
            "Best hyperparmeter config: {'n_estimators': 59, 'max_features': 0.7720255259265024, 'max_leaves': 114, 'criterion': 'entropy'}\n",
            "Training duration of best run: 1.989 s\n"
          ]
        }
      ]
    },
    {
      "cell_type": "code",
      "source": [
        "print(auto_model.model.estimator)"
      ],
      "metadata": {
        "colab": {
          "base_uri": "https://localhost:8080/"
        },
        "id": "2ULVD3QzLJVa",
        "outputId": "cbf873db-9385-42d2-85ea-0628f1320859"
      },
      "execution_count": null,
      "outputs": [
        {
          "output_type": "stream",
          "name": "stdout",
          "text": [
            "RandomForestClassifier(criterion='entropy', max_features=0.7720255259265024,\n",
            "                       max_leaf_nodes=114, n_estimators=59, n_jobs=-1,\n",
            "                       random_state=12032022)\n"
          ]
        }
      ]
    }
  ]
}